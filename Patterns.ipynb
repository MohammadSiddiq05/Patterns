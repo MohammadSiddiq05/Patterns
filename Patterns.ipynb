{
 "cells": [
  {
   "cell_type": "markdown",
   "id": "242403ee-e5f9-4a13-ace5-c037d530e2ed",
   "metadata": {},
   "source": [
    "## PATTERNS"
   ]
  },
  {
   "cell_type": "markdown",
   "id": "bf180603-e88f-4b18-9630-154590fc4420",
   "metadata": {},
   "source": [
    "### Square "
   ]
  },
  {
   "cell_type": "code",
   "execution_count": 4,
   "id": "7a135959-bc82-4e18-8d2b-b9f2fbfca847",
   "metadata": {
    "scrolled": true
   },
   "outputs": [
    {
     "name": "stdout",
     "output_type": "stream",
     "text": [
      "* * * * * * * * \n",
      "* * * * * * * * \n",
      "* * * * * * * * \n",
      "* * * * * * * * \n",
      "* * * * * * * * \n",
      "* * * * * * * * \n",
      "* * * * * * * * \n",
      "* * * * * * * * \n"
     ]
    }
   ],
   "source": [
    "for i in  range(0, 8):\n",
    "    for j in range(0, 8):\n",
    "        print(\"*\", end = \" \")\n",
    "    print()"
   ]
  },
  {
   "cell_type": "markdown",
   "id": "0821180a-caa2-41cd-8877-d423c1695262",
   "metadata": {},
   "source": [
    "### Hollow Square "
   ]
  },
  {
   "cell_type": "code",
   "execution_count": 6,
   "id": "68d7e5ee-3993-47b7-bfc5-16007cff199f",
   "metadata": {},
   "outputs": [
    {
     "name": "stdout",
     "output_type": "stream",
     "text": [
      "* * * * * * * * \n",
      "*             * \n",
      "*             * \n",
      "*             * \n",
      "*             * \n",
      "*             * \n",
      "*             * \n",
      "* * * * * * * * \n"
     ]
    }
   ],
   "source": [
    "n = 8\n",
    "for i in range(n):\n",
    "    for j in range(n):\n",
    "        if i == 0 or i == n - 1 or j == 0 or j == n - 1:\n",
    "            print(\"*\", end = \" \")\n",
    "        else:\n",
    "            print(' ', end = ' ')\n",
    "    print()"
   ]
  },
  {
   "cell_type": "markdown",
   "id": "b71f2da5-e730-4326-8015-0c765687e69a",
   "metadata": {},
   "source": [
    "### Right Triangle "
   ]
  },
  {
   "cell_type": "code",
   "execution_count": 3,
   "id": "c94b8f67-0756-4ec3-8adf-57a89c2e7eb2",
   "metadata": {},
   "outputs": [
    {
     "name": "stdout",
     "output_type": "stream",
     "text": [
      "* \n",
      "* * \n",
      "* * * \n",
      "* * * * \n",
      "* * * * * \n",
      "* * * * * * \n",
      "* * * * * * * \n",
      "* * * * * * * * \n"
     ]
    }
   ],
   "source": [
    "n = 8 \n",
    "for i in range(1, n + 1):\n",
    "    for j in range(1, i + 1):\n",
    "        print(\"*\", end = \" \")\n",
    "    print()"
   ]
  },
  {
   "cell_type": "markdown",
   "id": "a33079ed-85d4-4a6b-af8c-a86c63c1e4f2",
   "metadata": {},
   "source": [
    "### Left Triangle "
   ]
  },
  {
   "cell_type": "code",
   "execution_count": 18,
   "id": "b7f640dd-bb02-4995-94b2-bb1e447bdf06",
   "metadata": {},
   "outputs": [
    {
     "name": "stdout",
     "output_type": "stream",
     "text": [
      "              * \n",
      "            * * \n",
      "          * * * \n",
      "        * * * * \n",
      "      * * * * * \n",
      "    * * * * * * \n",
      "  * * * * * * * \n",
      "* * * * * * * * \n"
     ]
    }
   ],
   "source": [
    "n = 8 \n",
    "for i in range(n):\n",
    "    for j in range(1, n - i):\n",
    "        print(\" \", end = \" \")\n",
    "    for k in range(0, i + 1):\n",
    "        print(\"*\", end = \" \")\n",
    "    print()"
   ]
  },
  {
   "cell_type": "markdown",
   "id": "5777d542-6f04-478f-a852-83556e1d1d12",
   "metadata": {},
   "source": [
    "### Right Hollow Tirangle"
   ]
  },
  {
   "cell_type": "code",
   "execution_count": 1,
   "id": "16f04b1a-f04f-42f2-8d41-802613110bbd",
   "metadata": {},
   "outputs": [
    {
     "name": "stdout",
     "output_type": "stream",
     "text": [
      "*               \n",
      "* *             \n",
      "*   *           \n",
      "*     *         \n",
      "*       *       \n",
      "*         *     \n",
      "*           *   \n",
      "* * * * * * * * \n"
     ]
    }
   ],
   "source": [
    "n = 8 \n",
    "for i in range(n):\n",
    "    for j in range(n):\n",
    "        if j == 0 or j == i or i == n - 1:\n",
    "            print(\"*\", end = \" \")\n",
    "        else:\n",
    "            print(\" \", end = \" \")\n",
    "    print()"
   ]
  },
  {
   "cell_type": "markdown",
   "id": "08c29c0f-48af-4fd0-82de-eb610c007bdd",
   "metadata": {},
   "source": [
    "### Left Downward Triangle"
   ]
  },
  {
   "cell_type": "code",
   "execution_count": 21,
   "id": "7decac67-f2e6-41db-9506-4bc609fc72f2",
   "metadata": {},
   "outputs": [
    {
     "name": "stdout",
     "output_type": "stream",
     "text": [
      "* * * * * * * * \n",
      "* * * * * * * \n",
      "* * * * * * \n",
      "* * * * * \n",
      "* * * * \n",
      "* * * \n",
      "* * \n",
      "* \n"
     ]
    }
   ],
   "source": [
    "n = 8\n",
    "for i in range(n):\n",
    "    for j in range(n - i):\n",
    "        print(\"*\", end = \" \")\n",
    "    print()"
   ]
  },
  {
   "cell_type": "markdown",
   "id": "11ddf0e7-9063-4f32-8886-355fc9a13b7e",
   "metadata": {},
   "source": [
    "### Pyramid"
   ]
  },
  {
   "cell_type": "code",
   "execution_count": 22,
   "id": "af3f589b-7546-43b3-ba65-1b3c15ee9756",
   "metadata": {},
   "outputs": [
    {
     "name": "stdout",
     "output_type": "stream",
     "text": [
      "              * \n",
      "            * * * \n",
      "          * * * * * \n",
      "        * * * * * * * \n",
      "      * * * * * * * * * \n",
      "    * * * * * * * * * * * \n",
      "  * * * * * * * * * * * * * \n",
      "* * * * * * * * * * * * * * * \n"
     ]
    }
   ],
   "source": [
    "n = 8\n",
    "for i in range(n):\n",
    "    for j in range(n - i - 1):\n",
    "        print(\" \", end = ' ')\n",
    "    for k in range(2 * i + 1):\n",
    "        print(\"*\", end = ' ')\n",
    "    print()"
   ]
  },
  {
   "cell_type": "markdown",
   "id": "5e286dad-a558-46a3-8670-f095f1d0f932",
   "metadata": {},
   "source": [
    "### Hollow Pyramid"
   ]
  },
  {
   "cell_type": "code",
   "execution_count": 23,
   "id": "34b81c27-2af5-4fec-8ac0-a7afe28cc4ac",
   "metadata": {},
   "outputs": [
    {
     "name": "stdout",
     "output_type": "stream",
     "text": [
      "              * \n",
      "            *   * \n",
      "          *       * \n",
      "        *           * \n",
      "      *               * \n",
      "    *                   * \n",
      "  *                       * \n",
      "* * * * * * * * * * * * * * * \n"
     ]
    }
   ],
   "source": [
    "n = 8 \n",
    "for i in range(n):\n",
    "    for j in range(n - i -1):\n",
    "        print(\" \", end = \" \")\n",
    "    for k in range(2 * i + 1):\n",
    "        if k == 0 or k == 2 * i:\n",
    "            print(\"*\", end = \" \")\n",
    "        else:\n",
    "            if i == n - 1:\n",
    "                print(\"*\", end = \" \")\n",
    "            else:\n",
    "                print(\" \", end = \" \")\n",
    "    print()"
   ]
  },
  {
   "cell_type": "markdown",
   "id": "8fb6e827-f4ca-4533-bc77-2bf127e25106",
   "metadata": {},
   "source": [
    "### Diamond Star"
   ]
  },
  {
   "cell_type": "code",
   "execution_count": 2,
   "id": "2f4badc4-c043-4cd6-b574-d7efedda2528",
   "metadata": {},
   "outputs": [
    {
     "name": "stdout",
     "output_type": "stream",
     "text": [
      "              * \n",
      "            * * * \n",
      "          * * * * * \n",
      "        * * * * * * * \n",
      "      * * * * * * * * * \n",
      "    * * * * * * * * * * * \n",
      "  * * * * * * * * * * * * * \n",
      "* * * * * * * * * * * * * * * \n",
      "  * * * * * * * * * * * * * \n",
      "    * * * * * * * * * * * \n",
      "      * * * * * * * * * \n",
      "        * * * * * * * \n",
      "          * * * * * \n",
      "            * * * \n",
      "              * \n"
     ]
    }
   ],
   "source": [
    "n = 8 \n",
    "for i in range(n):\n",
    "    for j in range(n - i - 1):\n",
    "        print(\" \" , end = \" \")\n",
    "    for j in range(2 * i + 1):\n",
    "        print(\"*\", end = \" \")\n",
    "    print()\n",
    "\n",
    "for i in range(n - 2, -1, -1):\n",
    "    for j in range(n - i - 1):\n",
    "       print(\" \", end = \" \")\n",
    "    for j in range(2 * i + 1):\n",
    "        print(\"*\", end = \" \")\n",
    "    print()"
   ]
  },
  {
   "cell_type": "markdown",
   "id": "342ca9ab-dc87-4430-a46a-f1bd65c77d62",
   "metadata": {},
   "source": [
    "### Hollow Diamond Star"
   ]
  },
  {
   "cell_type": "code",
   "execution_count": 3,
   "id": "913b4836-e9d2-44f9-a9e5-c2d2867e0474",
   "metadata": {},
   "outputs": [
    {
     "name": "stdout",
     "output_type": "stream",
     "text": [
      "              * \n",
      "            *   * \n",
      "          *       * \n",
      "        *           * \n",
      "      *               * \n",
      "    *                   * \n",
      "  *                       * \n",
      "*                           * \n",
      "  *                       * \n",
      "    *                   * \n",
      "      *               * \n",
      "        *           * \n",
      "          *       * \n",
      "            *   * \n",
      "              * \n"
     ]
    }
   ],
   "source": [
    "n = 8\n",
    "for i in range(n):\n",
    "    for j in range(n - i - 1):\n",
    "        print(\" \", end = \" \")\n",
    "    for j in range(2 * i + 1):\n",
    "        if j == 0 or j == 2 * i:\n",
    "            print(\"*\", end = \" \")\n",
    "        else:\n",
    "            print(\" \", end = \" \")\n",
    "    print()\n",
    "\n",
    "for i in range(n - 2, -1, -1):\n",
    "    for j in range(n - i - 1):\n",
    "        print(\" \", end = \" \")\n",
    "    for j in range(2 * i + 1):\n",
    "        if j == 0 or j == 2 * i:\n",
    "            print(\"*\", end = \" \")\n",
    "        else:\n",
    "            print(\" \", end = \" \")\n",
    "    print()"
   ]
  },
  {
   "cell_type": "code",
   "execution_count": null,
   "id": "cd77d25d-c991-4477-9285-e4da70196750",
   "metadata": {},
   "outputs": [],
   "source": []
  }
 ],
 "metadata": {
  "kernelspec": {
   "display_name": "Python 3 (ipykernel)",
   "language": "python",
   "name": "python3"
  },
  "language_info": {
   "codemirror_mode": {
    "name": "ipython",
    "version": 3
   },
   "file_extension": ".py",
   "mimetype": "text/x-python",
   "name": "python",
   "nbconvert_exporter": "python",
   "pygments_lexer": "ipython3",
   "version": "3.11.7"
  }
 },
 "nbformat": 4,
 "nbformat_minor": 5
}
